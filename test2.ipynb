{
 "cells": [
  {
   "cell_type": "code",
   "execution_count": 1,
   "metadata": {},
   "outputs": [],
   "source": [
    "from sentiment_analysis import sentiment_"
   ]
  },
  {
   "cell_type": "code",
   "execution_count": 2,
   "metadata": {},
   "outputs": [
    {
     "name": "stderr",
     "output_type": "stream",
     "text": [
      "Hardware accelerator e.g. GPU is available in the environment, but no `device` argument is passed to the `Pipeline` object. Model will be on CPU.\n"
     ]
    },
    {
     "name": "stdout",
     "output_type": "stream",
     "text": [
      "MoviePy - Writing audio in UsersshivamgoswamiDocumentsvideo_extractionvideoplayback.mp.wav\n"
     ]
    },
    {
     "name": "stderr",
     "output_type": "stream",
     "text": [
      "Special tokens have been added in the vocabulary, make sure the associated word embeddings are fine-tuned or trained.\n"
     ]
    },
    {
     "name": "stdout",
     "output_type": "stream",
     "text": [
      "MoviePy - Done.\n"
     ]
    },
    {
     "name": "stderr",
     "output_type": "stream",
     "text": [
      "All model checkpoint layers were used when initializing TFT5ForConditionalGeneration.\n",
      "\n",
      "All the layers of TFT5ForConditionalGeneration were initialized from the model checkpoint at SJ-Ray/Re-Punctuate.\n",
      "If your task is similar to the task the model of the checkpoint was trained on, you can already use TFT5ForConditionalGeneration for predictions without further training.\n"
     ]
    },
    {
     "name": "stdout",
     "output_type": "stream",
     "text": [
      "Chunk 15 could not be transcribed\n"
     ]
    },
    {
     "name": "stderr",
     "output_type": "stream",
     "text": [
      "WARNING: All log messages before absl::InitializeLog() is called are written to STDERR\n",
      "I0000 00:00:1721738283.024650  676054 service.cc:146] XLA service 0x324785790 initialized for platform Host (this does not guarantee that XLA will be used). Devices:\n",
      "I0000 00:00:1721738283.025231  676054 service.cc:154]   StreamExecutor device (0): Host, Default Version\n",
      "2024-07-23 18:08:03.064096: I tensorflow/compiler/mlir/tensorflow/utils/dump_mlir_util.cc:268] disabling MLIR crash reproducer, set env var `MLIR_CRASH_REPRODUCER_DIRECTORY` to enable.\n",
      "I0000 00:00:1721738283.216178  676054 device_compiler.h:188] Compiled cluster using XLA!  This line is logged at most once for the lifetime of the process.\n"
     ]
    },
    {
     "name": "stdout",
     "output_type": "stream",
     "text": [
      "Happiness to curiosity on the Randi shows free widen the lens a little bit Segment 1: POSITIVE (score: 1.00)\n",
      " The narratives that you here in urban India about Europe a pretty distortion Segment 2: NEGATIVE (score: 0.99)\n",
      " You hear about this whole immigration problem Segment 3: POSITIVE (score: 0.86)\n",
      " How the locals are not happy with the immigrants of the refugees in the last?How to use that? What's your viewpoint? What's the general future of Europe? Is it actually kind of the death of this long-term Empire? That's one of the narratives? Or is that just a cool thing to say for the non-European world? So it's not an Empire anymore Segment 4: NEGATIVE (score: 1.00)\n",
      " They have better Institutions because they spent centuries looting the rest of the world andSo if there is good infrastructure, it is Segment 5: NEGATIVE (score: 1.00)\n",
      " You want to what you want to see and an old Indian artefact Segment 6: POSITIVE (score: 1.00)\n",
      " You will have to go to the British Museum of Loot, pay money and watch your own Heritage right Segment 7: NEGATIVE (score: 0.93)\n",
      " But ok, let's just say that what is gone is gone Segment 8: NEGATIVE (score: 1.00)\n",
      " They are better and doubt than US in terms of resources Segment 9: NEGATIVE (score: 0.52)\n",
      "Immigration is a is a complex subject Segment 10: POSITIVE (score: 0.98)\n",
      " You know, on a human level, if someone is running away from war, we would want to help them Segment 11: POSITIVE (score: 0.84)\n",
      " But is your taxpayer ready to pay for because these are also societies where you get a lot of benefits? If you don't have a job, you get Segment 12: NEGATIVE (score: 0.97)\n",
      " You get money, you get hand out from the government to get housing and so on Segment 13: NEGATIVE (score: 0.97)\n",
      " And where is that money coming from?Pocket right Segment 14: NEGATIVE (score: 0.99)\n",
      " So if you add people who are not actively contributing to your society or your economy, but just adding to the burden, then at some point the taxpayer is going to get up and say what's going on here Segment 15: NEGATIVE (score: 0.98)\n",
      " You can't say that for London anymore, but so you are seeing pockets Segment 16: POSITIVE (score: 0.99)\n",
      "In Europe where you don't see white Europeans and that unsettled some of them Segment 17: NEGATIVE (score: 0.92)\n",
      " But in some examples in France, I think close to 10% of the population is Muslim Segment 18: NEGATIVE (score: 0.63)\n",
      " A lot of these people came from Algeria Segment 19: POSITIVE (score: 0.96)\n",
      " In France, used to be the colonizer, and there was war in these people fought on the front sides Segment 20: NEGATIVE (score: 0.95)\n",
      "Now you have second third generation of those people Segment 21: POSITIVE (score: 0.99)\n",
      " They have not been able to completely integrate in the French society, so they feel eliminated hostility field where my cab drivers that we don't speak to the white people Segment 22: NEGATIVE (score: 0.98)\n",
      " They don't talk to us, so yeah, I'm saying that there are many people who came as legends have not been Segment 23: NEGATIVE (score: 0.92)\n",
      "Assimilate into the society as they should have been Segment 24: POSITIVE (score: 0.99)\n",
      " When there are people who are running away from Wars Wars that the West may have contributed to, if if Afghanistan is in a bad shape, it's because you guys came and dropped what you call the mother of all bombs and did not think twice Segment 25: NEGATIVE (score: 1.00)\n",
      " So where are those people going to go when the Ukraine is come to Europe? You welcome them because they look like you blue-eyed Golden hair, but when Arabs come then you are Segment 26: POSITIVE (score: 1.00)\n",
      " That's one side of it and all of these are realities Segment 27: POSITIVE (score: 0.99)\n",
      " In one, is not so there is the economic angle to it Segment 28: NEGATIVE (score: 0.86)\n",
      " There is social and cultural angle to it Segment 29: POSITIVE (score: 1.00)\n",
      " And then there is a third dimension Germany, which used to be the the growth engine of Europe is now sluggish Segment 30: NEGATIVE (score: 1.00)\n",
      " Is it is going to stagnant? They use the term called \"The X-X-X-X-X-X-X-They have these on a kebabs and the price is gone up and the opposition is saying that we should give up Segment 31: NEGATIVE (score: 1.00)\n",
      " I think 4 million dollar 4 million euro subsidy so that kebabs can be subsidized because it's a German way of life and so on Segment 32: NEGATIVE (score: 0.99)\n",
      " And so for the is inflation, there is not enough growth and it's an aging society Segment 33: NEGATIVE (score: 1.00)\n",
      " So going forward, they will not have enough workers Segment 34: NEGATIVE (score: 1.00)\n",
      " So unless they take people in from outside, they will Segment 35: NEGATIVE (score: 0.66)\n",
      "Be able to keep the growth engine going Segment 36: POSITIVE (score: 1.00)\n",
      " Ideally, they would like to take in people who add value and do not add to the burden, but that's not a choice that you can always make Segment 37: NEGATIVE (score: 0.99)\n",
      " And somewhere you'll have to make up for your all your historical Segment 38: POSITIVE (score: 1.00)\n",
      " You know they are doing it is doing a deal with to initial, like appointing them as a bodyguard Segment 39: NEGATIVE (score: 0.95)\n",
      " You don't let anybody from Africa coming to Italy, so they just throwing money at the problem UK is giving money to returnNot working out as they would like it to work out, so people are still getting on board boats risking their lives Segment 40: NEGATIVE (score: 0.99)\n",
      " Both cap size people die just in the hope of finding a life in Europe Segment 41: NEGATIVE (score: 0.99)\n",
      " You will have to look at all of it together to get a sensible picture Segment 42: NEGATIVE (score: 1.00)\n",
      " What's happening with the immigration history actually? Don't know Segment 43: NEGATIVE (score: 1.00)\n",
      "This is not studied medieval European history, but Europe was majority Muslim at one point or parts of it parts affect Spain was right Segment 44: POSITIVE (score: 0.99)\n",
      " There is a theory of red where they say that it's becoming an extension of Arabia again Segment 45: NEGATIVE (score: 0.97)\n",
      " Europe has benefited from the riches of the rest of the world and now Europe will have to accommodate the rest of the world Segment 46: POSITIVE (score: 1.00)\n",
      " I mean, look at Iran for instance Segment 47: NEGATIVE (score: 0.57)\n",
      " There was a time when what five odd Segment 48: NEGATIVE (score: 0.99)\n",
      "Companies all of them based in the West had control over all the majority of the known reserves and they tried to divide everything that was there among themselves to call the money plundered these lines Segment 49: NEGATIVE (score: 1.00)\n",
      " Now they can't turn around and say that everything that's happening there is your problem Segment 50: NEGATIVE (score: 0.83)\n",
      " You enjoyed this clip from the Ranveer show me the uploaded clips related to a turnover Segment 51: POSITIVE (score: 1.00)\n",
      " The topics explore the channel is something everyone Segment 52: POSITIVE (score: 1.00)\n"
     ]
    }
   ],
   "source": [
    "sentiment_(\"/Users/shivamgoswami/Documents/video_extraction/videoplayback.mp4\")"
   ]
  },
  {
   "cell_type": "code",
   "execution_count": null,
   "metadata": {},
   "outputs": [],
   "source": []
  }
 ],
 "metadata": {
  "kernelspec": {
   "display_name": "env",
   "language": "python",
   "name": "python3"
  },
  "language_info": {
   "codemirror_mode": {
    "name": "ipython",
    "version": 3
   },
   "file_extension": ".py",
   "mimetype": "text/x-python",
   "name": "python",
   "nbconvert_exporter": "python",
   "pygments_lexer": "ipython3",
   "version": "3.12.4"
  }
 },
 "nbformat": 4,
 "nbformat_minor": 2
}
