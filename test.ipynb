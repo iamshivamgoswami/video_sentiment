{
 "cells": [
  {
   "cell_type": "code",
   "execution_count": 106,
   "metadata": {},
   "outputs": [],
   "source": [
    "import os\n",
    "os.environ[\"IMAGEIO_FFMPEG_EXE\"] = \"/opt/homebrew/bin/ffmpeg\""
   ]
  },
  {
   "cell_type": "code",
   "execution_count": 107,
   "metadata": {},
   "outputs": [],
   "source": [
    "import speech_recognition as sr\n",
    "from pydub import AudioSegment\n",
    "from pydub.utils import make_chunks"
   ]
  },
  {
   "cell_type": "code",
   "execution_count": 108,
   "metadata": {},
   "outputs": [],
   "source": [
    "from moviepy.editor import VideoFileClip\n",
    "\n",
    "def extract_audio_from_video(video_path, audio_path):\n",
    "    video = VideoFileClip(video_path)\n",
    "    video.audio.write_audiofile(audio_path)\n",
    "\n"
   ]
  },
  {
   "cell_type": "code",
   "execution_count": 109,
   "metadata": {},
   "outputs": [
    {
     "name": "stderr",
     "output_type": "stream",
     "text": [
      "Python(41736) MallocStackLogging: can't turn off malloc stack logging because it was not enabled.\n",
      "Python(41737) MallocStackLogging: can't turn off malloc stack logging because it was not enabled.\n",
      "Python(41738) MallocStackLogging: can't turn off malloc stack logging because it was not enabled.\n",
      "Python(41739) MallocStackLogging: can't turn off malloc stack logging because it was not enabled.\n",
      "Python(41740) MallocStackLogging: can't turn off malloc stack logging because it was not enabled.\n"
     ]
    },
    {
     "name": "stdout",
     "output_type": "stream",
     "text": [
      "MoviePy - Writing audio in /Users/shivamgoswami/Documents/video_extraction/audio.wav\n"
     ]
    },
    {
     "name": "stderr",
     "output_type": "stream",
     "text": [
      "                                                                        "
     ]
    },
    {
     "name": "stdout",
     "output_type": "stream",
     "text": [
      "MoviePy - Done.\n"
     ]
    },
    {
     "name": "stderr",
     "output_type": "stream",
     "text": [
      "\r"
     ]
    }
   ],
   "source": [
    "video_path = '/Users/shivamgoswami/Documents/video_extraction/videoplayback.mp4'\n",
    "audio_path = '/Users/shivamgoswami/Documents/video_extraction/audio.wav'\n",
    "extract_audio_from_video(video_path, audio_path)"
   ]
  },
  {
   "cell_type": "code",
   "execution_count": 110,
   "metadata": {},
   "outputs": [],
   "source": [
    "#conveting audio to text\n",
    "import speech_recognition as sr\n",
    "from pydub import AudioSegment\n"
   ]
  },
  {
   "cell_type": "code",
   "execution_count": 111,
   "metadata": {},
   "outputs": [],
   "source": [
    "def transcribe_audio(audio_path):\n",
    "    recognizer = sr.Recognizer()\n",
    "    audio = AudioSegment.from_wav(audio_path)\n",
    "    \n",
    "    # Split audio into chunks and apply speech recognition\n",
    "    chunk_length_ms = 30000  # 30 seconds\n",
    "    chunks = make_chunks(audio, chunk_length_ms)\n",
    "    \n",
    "    transcript = []\n",
    "    for i, chunk in enumerate(chunks):\n",
    "        chunk_filename = f'chunk{i}.wav'\n",
    "        chunk.export(chunk_filename, format='wav')\n",
    "        \n",
    "        with sr.AudioFile(chunk_filename) as source:\n",
    "            audio_listened = recognizer.record(source)\n",
    "            try:\n",
    "                text = recognizer.recognize_google(audio_listened)\n",
    "                timestamp = (i * chunk_length_ms) / 1000\n",
    "                transcript.append({'timestamp': timestamp, 'text': text})\n",
    "            except sr.UnknownValueError:\n",
    "                print(f'Chunk {i} could not be transcribed')\n",
    "    \n",
    "    return transcript\n"
   ]
  },
  {
   "cell_type": "code",
   "execution_count": 112,
   "metadata": {},
   "outputs": [
    {
     "name": "stderr",
     "output_type": "stream",
     "text": [
      "Python(41741) MallocStackLogging: can't turn off malloc stack logging because it was not enabled.\n",
      "Python(41769) MallocStackLogging: can't turn off malloc stack logging because it was not enabled.\n",
      "Python(41772) MallocStackLogging: can't turn off malloc stack logging because it was not enabled.\n",
      "Python(41774) MallocStackLogging: can't turn off malloc stack logging because it was not enabled.\n",
      "Python(41781) MallocStackLogging: can't turn off malloc stack logging because it was not enabled.\n",
      "Python(41786) MallocStackLogging: can't turn off malloc stack logging because it was not enabled.\n",
      "Python(41789) MallocStackLogging: can't turn off malloc stack logging because it was not enabled.\n",
      "Python(41807) MallocStackLogging: can't turn off malloc stack logging because it was not enabled.\n",
      "Python(41816) MallocStackLogging: can't turn off malloc stack logging because it was not enabled.\n",
      "Python(41822) MallocStackLogging: can't turn off malloc stack logging because it was not enabled.\n",
      "Python(41847) MallocStackLogging: can't turn off malloc stack logging because it was not enabled.\n",
      "Python(41850) MallocStackLogging: can't turn off malloc stack logging because it was not enabled.\n",
      "Python(41853) MallocStackLogging: can't turn off malloc stack logging because it was not enabled.\n",
      "Python(41872) MallocStackLogging: can't turn off malloc stack logging because it was not enabled.\n",
      "Python(41876) MallocStackLogging: can't turn off malloc stack logging because it was not enabled.\n",
      "Python(41882) MallocStackLogging: can't turn off malloc stack logging because it was not enabled.\n"
     ]
    },
    {
     "name": "stdout",
     "output_type": "stream",
     "text": [
      "Chunk 15 could not be transcribed\n",
      "Timestamp: 0.0s, Text: happiness to curiosity on the randi shows free widen the lens a little bit the narratives that you here in urban India about Europe a pretty distortion you hear about this whole immigration problem how the locals are not happy with the immigrants of the refugees in the last\n",
      "Timestamp: 30.0s, Text: how to use that what's your viewpoint what's the general future of Europe is it actually kind of the death of this long term Empire that's one of the narratives or is that just a cool thing to say for the non European world so it's not an Empire anymore it is definitely a richer society they have better Institutions because they spent centuries looting the rest of the world and\n",
      "Timestamp: 60.0s, Text: so if there is good infrastructure it is thanks to our money right you want to what you want to see and an old Indian artefact you will have to go to the British Museum of loot pay money and watch your own Heritage right but ok let's just say that what is gone is gone so they are they are better and doubt than US in terms of resources\n",
      "Timestamp: 90.0s, Text: immigration is a is a complex subject you know on a human level if someone is running away from war we would want to help them but is your taxpayer ready to pay for because these are also societies where you get a lot of benefits if you don't have a job you get you get money you get hand out from the government to get housing and so on and where is that money coming from\n",
      "Timestamp: 120.0s, Text: pocket right so if you add people who are not actively contributing to your society or your economy but just adding to the burden then at some point the taxpayer is going to get up and say what's going on here that is one thing the second is the cultural makeup these are not multi ethnic some of them are not there they used to saying white people you can't say that for London anymore but so you are seeing pockets\n",
      "Timestamp: 150.0s, Text: in Europe where you don't see white Europeans and that unsettled some of them they college xenophobia which it is but in some examples in France I think close to 10% of the population is Muslim a lot of these people came from Algeria in France used to be the colonizer and there was war in these people fought on the front sides they had to come\n",
      "Timestamp: 180.0s, Text: now you have second third generation of those people they have not been able to completely integrate in the French society so they feel eliminated hostility field where my cab drivers that we don't speak to the white people they don't talk to us so yeah I'm saying that there are many people who came as legends have not been\n",
      "Timestamp: 210.0s, Text: assimilated into the society as they should have been when there are people who are running away from Wars Wars that the west may have contributed to if if Afghanistan is in a bad shape it's because you guys came and dropped what you call the mother of all bombs and did not think twice so where are those people going to go when the Ukraine is come to Europe you welcome them because they look like you blue eyed Golden hair but when Arabs come then you are\n",
      "Timestamp: 240.0s, Text: not so sure that's one side of it and all of these are realities you can't say one is correct in one is not so there is the economic angle to it there is social and cultural angle to it and then there is a third dimension Germany which used to be the the growth engine of Europe is now sluggish it has it is it is going to stagnant they use the term called\n",
      "Timestamp: 270.0s, Text: they have these on a kebabs and the price is gone up and the opposition is saying that we should give up I think 4 million dollar 4 million euro subsidy so that kebabs can be subsidized because it's a German way of life and so on and so for the is inflation there is not enough growth and it's an aging society so going forward they will not have enough workers so unless they take people in from outside they will\n",
      "Timestamp: 300.0s, Text: be able to keep the growth engine going ideally they would like to take in people who add value and do not add to the burden but that's not a choice that you can always make and somewhere you'll have to make up for your all your historical you know they are doing it is doing a deal with to initial like appointing them as a bodyguard you don't let anybody from Africa coming to Italy so they just throwing money at the problem UK is giving money to return it is given\n",
      "Timestamp: 330.0s, Text: not working out as they would like it to work out so people are still getting on board boats risking their lives both cap size people die just in the hope of finding a life in Europe that is a very sad reality you will have to look at all of it together to get a sensible picture what's happening with the immigration history actually don't know\n",
      "Timestamp: 360.0s, Text: this is not studied mediaeval European history but Europe was majority Muslim at one point or parts of it parts affect Spain was right there is a theory of red where they say that it's becoming an extension of Arabia again I have no virus\n",
      "Timestamp: 390.0s, Text: tension of Arabia Europe has benefited from the riches of the rest of the world and now Europe will have to accommodate the rest of the world that is water boils down to I mean look at Iran for instance they had oil reserves there was a time when what five odd\n",
      "Timestamp: 420.0s, Text: companies all of them based in the West had control over all the majority of the known reserves and they tried to divide everything that was there among themselves to call the money plundered these lines now they can't turn around and say that everything that's happening there is your problem not ask you enjoyed this clip from the Ranveer show me the uploaded clips related to a turnover the topics explore the channel is something everyone\n"
     ]
    }
   ],
   "source": [
    "transcript = transcribe_audio(audio_path)\n",
    "for entry in transcript:\n",
    "    print(f\"Timestamp: {entry['timestamp']}s, Text: {entry['text']}\")"
   ]
  },
  {
   "cell_type": "code",
   "execution_count": 113,
   "metadata": {},
   "outputs": [
    {
     "data": {
      "text/plain": [
       "[{'timestamp': 0.0,\n",
       "  'text': 'happiness to curiosity on the randi shows free widen the lens a little bit the narratives that you here in urban India about Europe a pretty distortion you hear about this whole immigration problem how the locals are not happy with the immigrants of the refugees in the last'},\n",
       " {'timestamp': 30.0,\n",
       "  'text': \"how to use that what's your viewpoint what's the general future of Europe is it actually kind of the death of this long term Empire that's one of the narratives or is that just a cool thing to say for the non European world so it's not an Empire anymore it is definitely a richer society they have better Institutions because they spent centuries looting the rest of the world and\"},\n",
       " {'timestamp': 60.0,\n",
       "  'text': \"so if there is good infrastructure it is thanks to our money right you want to what you want to see and an old Indian artefact you will have to go to the British Museum of loot pay money and watch your own Heritage right but ok let's just say that what is gone is gone so they are they are better and doubt than US in terms of resources\"},\n",
       " {'timestamp': 90.0,\n",
       "  'text': \"immigration is a is a complex subject you know on a human level if someone is running away from war we would want to help them but is your taxpayer ready to pay for because these are also societies where you get a lot of benefits if you don't have a job you get you get money you get hand out from the government to get housing and so on and where is that money coming from\"},\n",
       " {'timestamp': 120.0,\n",
       "  'text': \"pocket right so if you add people who are not actively contributing to your society or your economy but just adding to the burden then at some point the taxpayer is going to get up and say what's going on here that is one thing the second is the cultural makeup these are not multi ethnic some of them are not there they used to saying white people you can't say that for London anymore but so you are seeing pockets\"},\n",
       " {'timestamp': 150.0,\n",
       "  'text': \"in Europe where you don't see white Europeans and that unsettled some of them they college xenophobia which it is but in some examples in France I think close to 10% of the population is Muslim a lot of these people came from Algeria in France used to be the colonizer and there was war in these people fought on the front sides they had to come\"},\n",
       " {'timestamp': 180.0,\n",
       "  'text': \"now you have second third generation of those people they have not been able to completely integrate in the French society so they feel eliminated hostility field where my cab drivers that we don't speak to the white people they don't talk to us so yeah I'm saying that there are many people who came as legends have not been\"},\n",
       " {'timestamp': 210.0,\n",
       "  'text': \"assimilated into the society as they should have been when there are people who are running away from Wars Wars that the west may have contributed to if if Afghanistan is in a bad shape it's because you guys came and dropped what you call the mother of all bombs and did not think twice so where are those people going to go when the Ukraine is come to Europe you welcome them because they look like you blue eyed Golden hair but when Arabs come then you are\"},\n",
       " {'timestamp': 240.0,\n",
       "  'text': \"not so sure that's one side of it and all of these are realities you can't say one is correct in one is not so there is the economic angle to it there is social and cultural angle to it and then there is a third dimension Germany which used to be the the growth engine of Europe is now sluggish it has it is it is going to stagnant they use the term called\"},\n",
       " {'timestamp': 270.0,\n",
       "  'text': \"they have these on a kebabs and the price is gone up and the opposition is saying that we should give up I think 4 million dollar 4 million euro subsidy so that kebabs can be subsidized because it's a German way of life and so on and so for the is inflation there is not enough growth and it's an aging society so going forward they will not have enough workers so unless they take people in from outside they will\"},\n",
       " {'timestamp': 300.0,\n",
       "  'text': \"be able to keep the growth engine going ideally they would like to take in people who add value and do not add to the burden but that's not a choice that you can always make and somewhere you'll have to make up for your all your historical you know they are doing it is doing a deal with to initial like appointing them as a bodyguard you don't let anybody from Africa coming to Italy so they just throwing money at the problem UK is giving money to return it is given\"},\n",
       " {'timestamp': 330.0,\n",
       "  'text': \"not working out as they would like it to work out so people are still getting on board boats risking their lives both cap size people die just in the hope of finding a life in Europe that is a very sad reality you will have to look at all of it together to get a sensible picture what's happening with the immigration history actually don't know\"},\n",
       " {'timestamp': 360.0,\n",
       "  'text': \"this is not studied mediaeval European history but Europe was majority Muslim at one point or parts of it parts affect Spain was right there is a theory of red where they say that it's becoming an extension of Arabia again I have no virus\"},\n",
       " {'timestamp': 390.0,\n",
       "  'text': 'tension of Arabia Europe has benefited from the riches of the rest of the world and now Europe will have to accommodate the rest of the world that is water boils down to I mean look at Iran for instance they had oil reserves there was a time when what five odd'},\n",
       " {'timestamp': 420.0,\n",
       "  'text': \"companies all of them based in the West had control over all the majority of the known reserves and they tried to divide everything that was there among themselves to call the money plundered these lines now they can't turn around and say that everything that's happening there is your problem not ask you enjoyed this clip from the Ranveer show me the uploaded clips related to a turnover the topics explore the channel is something everyone\"}]"
      ]
     },
     "execution_count": 113,
     "metadata": {},
     "output_type": "execute_result"
    }
   ],
   "source": [
    "transcript"
   ]
  },
  {
   "cell_type": "code",
   "execution_count": 114,
   "metadata": {},
   "outputs": [],
   "source": [
    "#adding punctuations to it"
   ]
  },
  {
   "cell_type": "code",
   "execution_count": 115,
   "metadata": {},
   "outputs": [],
   "source": [
    "import torch\n",
    "from transformers import AutoTokenizer, AutoModelForTokenClassification\n",
    "from transformers import pipeline"
   ]
  },
  {
   "cell_type": "code",
   "execution_count": 116,
   "metadata": {},
   "outputs": [
    {
     "name": "stderr",
     "output_type": "stream",
     "text": [
      "All model checkpoint layers were used when initializing TFT5ForConditionalGeneration.\n",
      "\n",
      "All the layers of TFT5ForConditionalGeneration were initialized from the model checkpoint at SJ-Ray/Re-Punctuate.\n",
      "If your task is similar to the task the model of the checkpoint was trained on, you can already use TFT5ForConditionalGeneration for predictions without further training.\n"
     ]
    }
   ],
   "source": [
    "from transformers import T5Tokenizer, TFT5ForConditionalGeneration\n",
    "\n",
    "# Load the tokenizer and model\n",
    "tokenizer = T5Tokenizer.from_pretrained('SJ-Ray/Re-Punctuate')\n",
    "model = TFT5ForConditionalGeneration.from_pretrained('SJ-Ray/Re-Punctuate')"
   ]
  },
  {
   "cell_type": "code",
   "execution_count": 117,
   "metadata": {},
   "outputs": [
    {
     "name": "stdout",
     "output_type": "stream",
     "text": [
      "/Users/shivamgoswami/Documents/video_extraction\n"
     ]
    },
    {
     "data": {
      "text/plain": [
       "0"
      ]
     },
     "execution_count": 117,
     "metadata": {},
     "output_type": "execute_result"
    }
   ],
   "source": [
    "os.system(\"pwd\")"
   ]
  },
  {
   "cell_type": "code",
   "execution_count": 118,
   "metadata": {},
   "outputs": [
    {
     "data": {
      "text/plain": [
       "('/Users/shivamgoswami/Documents/video_extraction/SJ-Ra-Re-Punctuate/tokenizer_config.json',\n",
       " '/Users/shivamgoswami/Documents/video_extraction/SJ-Ra-Re-Punctuate/special_tokens_map.json',\n",
       " '/Users/shivamgoswami/Documents/video_extraction/SJ-Ra-Re-Punctuate/spiece.model',\n",
       " '/Users/shivamgoswami/Documents/video_extraction/SJ-Ra-Re-Punctuate/added_tokens.json')"
      ]
     },
     "execution_count": 118,
     "metadata": {},
     "output_type": "execute_result"
    }
   ],
   "source": [
    "tokenizer.save_pretrained(\"/Users/shivamgoswami/Documents/video_extraction/SJ-Ra-Re-Punctuate\")\n"
   ]
  },
  {
   "cell_type": "code",
   "execution_count": null,
   "metadata": {},
   "outputs": [],
   "source": []
  },
  {
   "cell_type": "code",
   "execution_count": 119,
   "metadata": {},
   "outputs": [
    {
     "name": "stderr",
     "output_type": "stream",
     "text": [
      "Special tokens have been added in the vocabulary, make sure the associated word embeddings are fine-tuned or trained.\n"
     ]
    }
   ],
   "source": [
    "load_directory = '/Users/shivamgoswami/Documents/video_extraction/SJ-Ra-Re-Punctuate'\n",
    "\n",
    "# Load the tokenizer and model\n",
    "tokenizer = T5Tokenizer.from_pretrained(load_directory)"
   ]
  },
  {
   "cell_type": "code",
   "execution_count": 120,
   "metadata": {},
   "outputs": [
    {
     "name": "stdout",
     "output_type": "stream",
     "text": [
      "Happiness to curiosity on the Randi shows free widen the lens a little bit. The narratives that you here in urban India about Europe a pretty distortion. You hear about this whole immigration problem. How the locals are not happy with the immigrants of the refugees in the last?\n"
     ]
    }
   ],
   "source": [
    "\n",
    "\n",
    "input_text = 'the story of this brave brilliant athlete whose very being was questioned so publicly is one that still captures the imagination'\n",
    "input_text=\" happiness to curiosity on the randi shows free widen the lens a little bit the narratives that you here in urban India about Europe a pretty distortion you hear about this whole immigration problem how the locals are not happy with the immigrants of the refugees in the last\"\n",
    "inputs = tokenizer.encode(\"punctuate: \" + input_text, return_tensors=\"tf\") \n",
    "result = model.generate(inputs)\n",
    "\n",
    "decoded_output = tokenizer.decode(result[0], skip_special_tokens=True)\n",
    "print(decoded_output)"
   ]
  },
  {
   "cell_type": "code",
   "execution_count": 121,
   "metadata": {},
   "outputs": [
    {
     "name": "stdout",
     "output_type": "stream",
     "text": [
      "happiness to curiosity on the randi shows free widen the lens a little bit the narratives that you here in urban India about Europe a pretty distortion you hear about this whole immigration problem how the locals are not happy with the immigrants of the refugees in the last\n",
      "how to use that what's your viewpoint what's the general future of Europe is it actually kind of the death of this long term Empire that's one of the narratives or is that just a cool thing to say for the non European world so it's not an Empire anymore it is definitely a richer society they have better Institutions because they spent centuries looting the rest of the world and\n"
     ]
    }
   ],
   "source": [
    "for i in transcript[:2]:\n",
    "    print(i[\"text\"])"
   ]
  },
  {
   "cell_type": "code",
   "execution_count": 122,
   "metadata": {},
   "outputs": [],
   "source": [
    "punctuated_txt=[]\n",
    "for i in transcript:\n",
    "    inputs = tokenizer.encode(\"punctuate: \" + i[\"text\"], return_tensors=\"tf\") \n",
    "    result = model.generate(inputs)\n",
    "\n",
    "    decoded_output = tokenizer.decode(result[0], skip_special_tokens=True)\n",
    "\n",
    "    punctuated_txt.append(decoded_output)"
   ]
  },
  {
   "cell_type": "code",
   "execution_count": 123,
   "metadata": {},
   "outputs": [
    {
     "data": {
      "text/plain": [
       "['Happiness to curiosity on the Randi shows free widen the lens a little bit. The narratives that you here in urban India about Europe a pretty distortion. You hear about this whole immigration problem. How the locals are not happy with the immigrants of the refugees in the last?',\n",
       " \"How to use that? What's your viewpoint? What's the general future of Europe? Is it actually kind of the death of this long-term Empire? That's one of the narratives? Or is that just a cool thing to say for the non-European world? So it's not an Empire anymore. It is definitely a richer society. They have better Institutions because they spent centuries looting the rest of the world and\",\n",
       " \"So if there is good infrastructure, it is. Thanks to our money right. You want to what you want to see and an old Indian artefact. You will have to go to the British Museum of Loot, pay money and watch your own Heritage right. But ok, let's just say that what is gone is gone. So they are. They are better and doubt than US in terms of resources.\",\n",
       " \"Immigration is a is a complex subject. You know, on a human level, if someone is running away from war, we would want to help them. But is your taxpayer ready to pay for because these are also societies where you get a lot of benefits? If you don't have a job, you get. You get money, you get hand out from the government to get housing and so on. And where is that money coming from?\",\n",
       " \"Pocket right. So if you add people who are not actively contributing to your society or your economy, but just adding to the burden, then at some point the taxpayer is going to get up and say what's going on here. That is one thing. The second is the cultural makeup. These are not multi-ethnic. Some of them are not there. They used to saying white people. You can't say that for London anymore, but so you are seeing pockets.\",\n",
       " \"In Europe where you don't see white Europeans and that unsettled some of them. They college xenophobia which it is. But in some examples in France, I think close to 10% of the population is Muslim. A lot of these people came from Algeria. In France, used to be the colonizer, and there was war in these people fought on the front sides. They had to come.\",\n",
       " \"Now you have second third generation of those people. They have not been able to completely integrate in the French society, so they feel eliminated hostility field where my cab drivers that we don't speak to the white people. They don't talk to us, so yeah, I'm saying that there are many people who came as legends have not been.\",\n",
       " \"Assimilate into the society as they should have been. When there are people who are running away from Wars Wars that the West may have contributed to, if if Afghanistan is in a bad shape, it's because you guys came and dropped what you call the mother of all bombs and did not think twice. So where are those people going to go when the Ukraine is come to Europe? You welcome them because they look like you blue-eyed Golden hair, but when Arabs come then you are.\",\n",
       " 'Not so sure. That\\'s one side of it and all of these are realities. You can\\'t say one is correct. In one, is not so there is the economic angle to it. There is social and cultural angle to it. And then there is a third dimension Germany, which used to be the the growth engine of Europe is now sluggish. It has it. Is it is going to stagnant? They use the term called \"The X-X-X-X-X-X-X-',\n",
       " \"They have these on a kebabs and the price is gone up and the opposition is saying that we should give up. I think 4 million dollar 4 million euro subsidy so that kebabs can be subsidized because it's a German way of life and so on. And so for the is inflation, there is not enough growth and it's an aging society. So going forward, they will not have enough workers. So unless they take people in from outside, they will.\",\n",
       " \"Be able to keep the growth engine going. Ideally, they would like to take in people who add value and do not add to the burden, but that's not a choice that you can always make. And somewhere you'll have to make up for your all your historical. You know they are doing it is doing a deal with to initial, like appointing them as a bodyguard. You don't let anybody from Africa coming to Italy, so they just throwing money at the problem UK is giving money to return\",\n",
       " \"Not working out as they would like it to work out, so people are still getting on board boats risking their lives. Both cap size people die just in the hope of finding a life in Europe. That is a very sad reality. You will have to look at all of it together to get a sensible picture. What's happening with the immigration history actually? Don't know.\",\n",
       " \"This is not studied medieval European history, but Europe was majority Muslim at one point or parts of it parts affect Spain was right. There is a theory of red where they say that it's becoming an extension of Arabia again. I have no virus.\",\n",
       " 'Tension of Arabia. Europe has benefited from the riches of the rest of the world and now Europe will have to accommodate the rest of the world. That is water boils down to. I mean, look at Iran for instance. They had oil reserves. There was a time when what five odd.',\n",
       " \"Companies all of them based in the West had control over all the majority of the known reserves and they tried to divide everything that was there among themselves to call the money plundered these lines. Now they can't turn around and say that everything that's happening there is your problem. Not ask. You enjoyed this clip from the Ranveer show me the uploaded clips related to a turnover. The topics explore the channel is something everyone.\"]"
      ]
     },
     "execution_count": 123,
     "metadata": {},
     "output_type": "execute_result"
    }
   ],
   "source": [
    "punctuated_txt"
   ]
  },
  {
   "cell_type": "code",
   "execution_count": 124,
   "metadata": {},
   "outputs": [
    {
     "name": "stderr",
     "output_type": "stream",
     "text": [
      "Hardware accelerator e.g. GPU is available in the environment, but no `device` argument is passed to the `Pipeline` object. Model will be on CPU.\n"
     ]
    }
   ],
   "source": [
    "from transformers import pipeline\n",
    "\n",
    "# Specify the model explicitly\n",
    "model_name = \"distilbert-base-uncased-finetuned-sst-2-english\"\n",
    "\n",
    "\n",
    "# Load the sentiment-analysis pipeline with the specified model\n",
    "sentiment_analyzer = pipeline('sentiment-analysis', model=model_name)\n"
   ]
  },
  {
   "cell_type": "code",
   "execution_count": 125,
   "metadata": {},
   "outputs": [],
   "source": [
    "from transformers import AutoTokenizer, AutoModelForSequenceClassification\n"
   ]
  },
  {
   "cell_type": "code",
   "execution_count": 126,
   "metadata": {},
   "outputs": [],
   "source": [
    "tokenizer = AutoTokenizer.from_pretrained(model_name)\n"
   ]
  },
  {
   "cell_type": "code",
   "execution_count": 127,
   "metadata": {},
   "outputs": [],
   "source": [
    "model = AutoModelForSequenceClassification.from_pretrained(model_name)\n"
   ]
  },
  {
   "cell_type": "code",
   "execution_count": 128,
   "metadata": {},
   "outputs": [],
   "source": [
    "save_directory=\"/Users/shivamgoswami/Documents/video_extraction/bert\""
   ]
  },
  {
   "cell_type": "code",
   "execution_count": 129,
   "metadata": {},
   "outputs": [],
   "source": [
    "tokenizer.save_pretrained(save_directory)\n",
    "model.save_pretrained(save_directory)"
   ]
  },
  {
   "cell_type": "code",
   "execution_count": 130,
   "metadata": {},
   "outputs": [],
   "source": [
    "load_directory=save_directory"
   ]
  },
  {
   "cell_type": "code",
   "execution_count": 131,
   "metadata": {},
   "outputs": [
    {
     "data": {
      "text/plain": [
       "'/Users/shivamgoswami/Documents/video_extraction/bert'"
      ]
     },
     "execution_count": 131,
     "metadata": {},
     "output_type": "execute_result"
    }
   ],
   "source": [
    "load_directory"
   ]
  },
  {
   "cell_type": "code",
   "execution_count": 132,
   "metadata": {},
   "outputs": [],
   "source": [
    "sentiment_analyzer = pipeline('sentiment-analysis',  model=model, tokenizer=tokenizer,device=0)\n"
   ]
  },
  {
   "cell_type": "code",
   "execution_count": 133,
   "metadata": {},
   "outputs": [],
   "source": [
    "sentiment_analyzetokenizer = AutoTokenizer.from_pretrained(load_directory)\n",
    "model = AutoModelForSequenceClassification.from_pretrained(load_directory)"
   ]
  },
  {
   "cell_type": "code",
   "execution_count": 134,
   "metadata": {},
   "outputs": [],
   "source": [
    "transcript = [\n",
    "    'Happiness to curiosity on the Randi shows free widen the lens a little bit. The narratives that you here in urban India about Europe a pretty distortion. You hear about this whole immigration problem. How the locals are not happy with the immigrants of the refugees in the last?',\n",
    "    \"How to use that? What's your viewpoint? What's the general future of Europe? Is it actually kind of the death of this long-term Empire? That's one of the narratives? Or is that just a cool thing to say for the non-European world? So it's not an Empire anymore. It is definitely a richer society. They have better Institutions because they spent centuries looting the rest of the world and\",\n",
    "    \"So if there is good infrastructure, it is. Thanks to our money right. You want to what you want to see and an old Indian artefact. You will have to go to the British Museum of Loot, pay money and watch your own Heritage right. But ok, let's just say that what is gone is gone. So they are. They are better and doubt than US in terms of resources.\",\n",
    "    \"Immigration is a is a complex subject. You know, on a human level, if someone is running away from war, we would want to help them. But is your taxpayer ready to pay for because these are also societies where you get a lot of benefits? If you don't have a job, you get. You get money, you get hand out from the government to get housing and so on. And where is that money coming from?\",\n",
    "    \"Pocket right. So if you add people who are not actively contributing to your society or your economy, but just adding to the burden, then at some point the taxpayer is going to get up and say what's going on here. That is one thing. The second is the cultural makeup. These are not multi-ethnic. Some of them are not there. They used to saying white people. You can't say that for London anymore, but so you are seeing pockets.\",\n",
    "    \"In Europe where you don't see white Europeans and that unsettled some of them. They college xenophobia which it is. But in some examples in France, I think close to 10% of the population is Muslim. A lot of these people came from Algeria. In France, used to be the colonizer, and there was war in these people fought on the front sides. They had to come.\",\n",
    "    \"Now you have second third generation of those people. They have not been able to completely integrate in the French society, so they feel eliminated hostility field where my cab drivers that we don't speak to the white people. They don't talk to us, so yeah, I'm saying that there are many people who came as legends have not been.\",\n",
    "    \"Assimilate into the society as they should have been. When there are people who are running away from Wars Wars that the West may have contributed to, if if Afghanistan is in a bad shape, it's because you guys came and dropped what you call the mother of all bombs and did not think twice. So where are those people going to go when the Ukraine is come to Europe? You welcome them because they look like you blue-eyed Golden hair, but when Arabs come then you are.\",\n",
    "    'Not so sure. That\\'s one side of it and all of these are realities. You can\\'t say one is correct. In one, is not so there is the economic angle to it. There is social and cultural angle to it. And then there is a third dimension Germany, which used to be the the growth engine of Europe is now sluggish. It has it. Is it is going to stagnant? They use the term called \"The X-X-X-X-X-X-X-',\n",
    "    \"They have these on a kebabs and the price is gone up and the opposition is saying that we should give up. I think 4 million dollar 4 million euro subsidy so that kebabs can be subsidized because it's a German way of life and so on. And so for the is inflation, there is not enough growth and it's an aging society. So going forward, they will not have enough workers. So unless they take people in from outside, they will.\",\n",
    "    \"Be able to keep the growth engine going. Ideally, they would like to take in people who add value and do not add to the burden, but that's not a choice that you can always make. And somewhere you'll have to make up for your all your historical. You know they are doing it is doing a deal with to initial, like appointing them as a bodyguard. You don't let anybody from Africa coming to Italy, so they just throwing money at the problem UK is giving money to return\",\n",
    "    \"Not working out as they would like it to work out, so people are still getting on board boats risking their lives. Both cap size people die just in the hope of finding a life in Europe. That is a very sad reality. You will have to look at all of it together to get a sensible picture. What's happening with the immigration history actually? Don't know.\",\n",
    "    \"This is not studied medieval European history, but Europe was majority Muslim at one point or parts of it parts affect Spain was right. There is a theory of red where they say that it's becoming an extension of Arabia again. I have no virus.\",\n",
    "    'Tension of Arabia. Europe has benefited from the riches of the rest of the world and now Europe will have to accommodate the rest of the world. That is water boils down to. I mean, look at Iran for instance. They had oil reserves. There was a time when what five odd.',\n",
    "    \"Companies all of them based in the West had control over all the majority of the known reserves and they tried to divide everything that was there among themselves to call the money plundered these lines. Now they can't turn around and say that everything that's happening there is your problem. Not ask. You enjoyed this clip from the Ranveer show me the uploaded clips related to a turnover. The topics explore the channel is something everyone.\"\n",
    "]\n",
    "\n",
    "transcript=\"\".join(transcript)\n",
    "transcript=transcript.split(\".\")\n",
    "transcript = [sentence for sentence in transcript if len(sentence.split()) >= 7]\n",
    "\n",
    "\n"
   ]
  },
  {
   "cell_type": "code",
   "execution_count": 135,
   "metadata": {},
   "outputs": [
    {
     "data": {
      "text/plain": [
       "['Happiness to curiosity on the Randi shows free widen the lens a little bit',\n",
       " ' The narratives that you here in urban India about Europe a pretty distortion',\n",
       " ' You hear about this whole immigration problem',\n",
       " \" How the locals are not happy with the immigrants of the refugees in the last?How to use that? What's your viewpoint? What's the general future of Europe? Is it actually kind of the death of this long-term Empire? That's one of the narratives? Or is that just a cool thing to say for the non-European world? So it's not an Empire anymore\",\n",
       " ' They have better Institutions because they spent centuries looting the rest of the world andSo if there is good infrastructure, it is',\n",
       " ' You want to what you want to see and an old Indian artefact',\n",
       " ' You will have to go to the British Museum of Loot, pay money and watch your own Heritage right',\n",
       " \" But ok, let's just say that what is gone is gone\",\n",
       " ' They are better and doubt than US in terms of resources',\n",
       " 'Immigration is a is a complex subject',\n",
       " ' You know, on a human level, if someone is running away from war, we would want to help them',\n",
       " \" But is your taxpayer ready to pay for because these are also societies where you get a lot of benefits? If you don't have a job, you get\",\n",
       " ' You get money, you get hand out from the government to get housing and so on',\n",
       " ' And where is that money coming from?Pocket right',\n",
       " \" So if you add people who are not actively contributing to your society or your economy, but just adding to the burden, then at some point the taxpayer is going to get up and say what's going on here\",\n",
       " \" You can't say that for London anymore, but so you are seeing pockets\",\n",
       " \"In Europe where you don't see white Europeans and that unsettled some of them\",\n",
       " ' But in some examples in France, I think close to 10% of the population is Muslim',\n",
       " ' A lot of these people came from Algeria',\n",
       " ' In France, used to be the colonizer, and there was war in these people fought on the front sides',\n",
       " 'Now you have second third generation of those people',\n",
       " \" They have not been able to completely integrate in the French society, so they feel eliminated hostility field where my cab drivers that we don't speak to the white people\",\n",
       " \" They don't talk to us, so yeah, I'm saying that there are many people who came as legends have not been\",\n",
       " 'Assimilate into the society as they should have been',\n",
       " \" When there are people who are running away from Wars Wars that the West may have contributed to, if if Afghanistan is in a bad shape, it's because you guys came and dropped what you call the mother of all bombs and did not think twice\",\n",
       " ' So where are those people going to go when the Ukraine is come to Europe? You welcome them because they look like you blue-eyed Golden hair, but when Arabs come then you are',\n",
       " \" That's one side of it and all of these are realities\",\n",
       " ' In one, is not so there is the economic angle to it',\n",
       " ' There is social and cultural angle to it',\n",
       " ' And then there is a third dimension Germany, which used to be the the growth engine of Europe is now sluggish',\n",
       " ' Is it is going to stagnant? They use the term called \"The X-X-X-X-X-X-X-They have these on a kebabs and the price is gone up and the opposition is saying that we should give up',\n",
       " \" I think 4 million dollar 4 million euro subsidy so that kebabs can be subsidized because it's a German way of life and so on\",\n",
       " \" And so for the is inflation, there is not enough growth and it's an aging society\",\n",
       " ' So going forward, they will not have enough workers',\n",
       " ' So unless they take people in from outside, they will',\n",
       " 'Be able to keep the growth engine going',\n",
       " \" Ideally, they would like to take in people who add value and do not add to the burden, but that's not a choice that you can always make\",\n",
       " \" And somewhere you'll have to make up for your all your historical\",\n",
       " ' You know they are doing it is doing a deal with to initial, like appointing them as a bodyguard',\n",
       " \" You don't let anybody from Africa coming to Italy, so they just throwing money at the problem UK is giving money to returnNot working out as they would like it to work out, so people are still getting on board boats risking their lives\",\n",
       " ' Both cap size people die just in the hope of finding a life in Europe',\n",
       " ' You will have to look at all of it together to get a sensible picture',\n",
       " \" What's happening with the immigration history actually? Don't know\",\n",
       " 'This is not studied medieval European history, but Europe was majority Muslim at one point or parts of it parts affect Spain was right',\n",
       " \" There is a theory of red where they say that it's becoming an extension of Arabia again\",\n",
       " ' Europe has benefited from the riches of the rest of the world and now Europe will have to accommodate the rest of the world',\n",
       " ' I mean, look at Iran for instance',\n",
       " ' There was a time when what five odd',\n",
       " 'Companies all of them based in the West had control over all the majority of the known reserves and they tried to divide everything that was there among themselves to call the money plundered these lines',\n",
       " \" Now they can't turn around and say that everything that's happening there is your problem\",\n",
       " ' You enjoyed this clip from the Ranveer show me the uploaded clips related to a turnover',\n",
       " ' The topics explore the channel is something everyone']"
      ]
     },
     "execution_count": 135,
     "metadata": {},
     "output_type": "execute_result"
    }
   ],
   "source": [
    "transcript"
   ]
  },
  {
   "cell_type": "code",
   "execution_count": 136,
   "metadata": {},
   "outputs": [
    {
     "name": "stdout",
     "output_type": "stream",
     "text": [
      "Happiness to curiosity on the Randi shows free widen the lens a little bit Segment 1: POSITIVE (score: 1.00)\n",
      " The narratives that you here in urban India about Europe a pretty distortion Segment 2: NEGATIVE (score: 0.99)\n",
      " You hear about this whole immigration problem Segment 3: POSITIVE (score: 0.86)\n",
      " How the locals are not happy with the immigrants of the refugees in the last?How to use that? What's your viewpoint? What's the general future of Europe? Is it actually kind of the death of this long-term Empire? That's one of the narratives? Or is that just a cool thing to say for the non-European world? So it's not an Empire anymore Segment 4: NEGATIVE (score: 1.00)\n",
      " They have better Institutions because they spent centuries looting the rest of the world andSo if there is good infrastructure, it is Segment 5: NEGATIVE (score: 1.00)\n",
      " You want to what you want to see and an old Indian artefact Segment 6: POSITIVE (score: 1.00)\n",
      " You will have to go to the British Museum of Loot, pay money and watch your own Heritage right Segment 7: NEGATIVE (score: 0.93)\n",
      " But ok, let's just say that what is gone is gone Segment 8: NEGATIVE (score: 1.00)\n",
      " They are better and doubt than US in terms of resources Segment 9: NEGATIVE (score: 0.52)\n",
      "Immigration is a is a complex subject Segment 10: POSITIVE (score: 0.98)\n",
      " You know, on a human level, if someone is running away from war, we would want to help them Segment 11: POSITIVE (score: 0.84)\n",
      " But is your taxpayer ready to pay for because these are also societies where you get a lot of benefits? If you don't have a job, you get Segment 12: NEGATIVE (score: 0.97)\n",
      " You get money, you get hand out from the government to get housing and so on Segment 13: NEGATIVE (score: 0.97)\n",
      " And where is that money coming from?Pocket right Segment 14: NEGATIVE (score: 0.99)\n",
      " So if you add people who are not actively contributing to your society or your economy, but just adding to the burden, then at some point the taxpayer is going to get up and say what's going on here Segment 15: NEGATIVE (score: 0.98)\n",
      " You can't say that for London anymore, but so you are seeing pockets Segment 16: POSITIVE (score: 0.99)\n",
      "In Europe where you don't see white Europeans and that unsettled some of them Segment 17: NEGATIVE (score: 0.92)\n",
      " But in some examples in France, I think close to 10% of the population is Muslim Segment 18: NEGATIVE (score: 0.63)\n",
      " A lot of these people came from Algeria Segment 19: POSITIVE (score: 0.96)\n",
      " In France, used to be the colonizer, and there was war in these people fought on the front sides Segment 20: NEGATIVE (score: 0.95)\n",
      "Now you have second third generation of those people Segment 21: POSITIVE (score: 0.99)\n",
      " They have not been able to completely integrate in the French society, so they feel eliminated hostility field where my cab drivers that we don't speak to the white people Segment 22: NEGATIVE (score: 0.98)\n",
      " They don't talk to us, so yeah, I'm saying that there are many people who came as legends have not been Segment 23: NEGATIVE (score: 0.92)\n",
      "Assimilate into the society as they should have been Segment 24: POSITIVE (score: 0.99)\n",
      " When there are people who are running away from Wars Wars that the West may have contributed to, if if Afghanistan is in a bad shape, it's because you guys came and dropped what you call the mother of all bombs and did not think twice Segment 25: NEGATIVE (score: 1.00)\n",
      " So where are those people going to go when the Ukraine is come to Europe? You welcome them because they look like you blue-eyed Golden hair, but when Arabs come then you are Segment 26: POSITIVE (score: 1.00)\n",
      " That's one side of it and all of these are realities Segment 27: POSITIVE (score: 0.99)\n",
      " In one, is not so there is the economic angle to it Segment 28: NEGATIVE (score: 0.86)\n",
      " There is social and cultural angle to it Segment 29: POSITIVE (score: 1.00)\n",
      " And then there is a third dimension Germany, which used to be the the growth engine of Europe is now sluggish Segment 30: NEGATIVE (score: 1.00)\n",
      " Is it is going to stagnant? They use the term called \"The X-X-X-X-X-X-X-They have these on a kebabs and the price is gone up and the opposition is saying that we should give up Segment 31: NEGATIVE (score: 1.00)\n",
      " I think 4 million dollar 4 million euro subsidy so that kebabs can be subsidized because it's a German way of life and so on Segment 32: NEGATIVE (score: 0.99)\n",
      " And so for the is inflation, there is not enough growth and it's an aging society Segment 33: NEGATIVE (score: 1.00)\n",
      " So going forward, they will not have enough workers Segment 34: NEGATIVE (score: 1.00)\n",
      " So unless they take people in from outside, they will Segment 35: NEGATIVE (score: 0.66)\n",
      "Be able to keep the growth engine going Segment 36: POSITIVE (score: 1.00)\n",
      " Ideally, they would like to take in people who add value and do not add to the burden, but that's not a choice that you can always make Segment 37: NEGATIVE (score: 0.99)\n",
      " And somewhere you'll have to make up for your all your historical Segment 38: POSITIVE (score: 1.00)\n",
      " You know they are doing it is doing a deal with to initial, like appointing them as a bodyguard Segment 39: NEGATIVE (score: 0.95)\n",
      " You don't let anybody from Africa coming to Italy, so they just throwing money at the problem UK is giving money to returnNot working out as they would like it to work out, so people are still getting on board boats risking their lives Segment 40: NEGATIVE (score: 0.99)\n",
      " Both cap size people die just in the hope of finding a life in Europe Segment 41: NEGATIVE (score: 0.99)\n",
      " You will have to look at all of it together to get a sensible picture Segment 42: NEGATIVE (score: 1.00)\n",
      " What's happening with the immigration history actually? Don't know Segment 43: NEGATIVE (score: 1.00)\n",
      "This is not studied medieval European history, but Europe was majority Muslim at one point or parts of it parts affect Spain was right Segment 44: POSITIVE (score: 0.99)\n",
      " There is a theory of red where they say that it's becoming an extension of Arabia again Segment 45: NEGATIVE (score: 0.97)\n",
      " Europe has benefited from the riches of the rest of the world and now Europe will have to accommodate the rest of the world Segment 46: POSITIVE (score: 1.00)\n",
      " I mean, look at Iran for instance Segment 47: NEGATIVE (score: 0.57)\n",
      " There was a time when what five odd Segment 48: NEGATIVE (score: 0.99)\n",
      "Companies all of them based in the West had control over all the majority of the known reserves and they tried to divide everything that was there among themselves to call the money plundered these lines Segment 49: NEGATIVE (score: 1.00)\n",
      " Now they can't turn around and say that everything that's happening there is your problem Segment 50: NEGATIVE (score: 0.83)\n",
      " You enjoyed this clip from the Ranveer show me the uploaded clips related to a turnover Segment 51: POSITIVE (score: 1.00)\n",
      " The topics explore the channel is something everyone Segment 52: POSITIVE (score: 1.00)\n"
     ]
    }
   ],
   "source": [
    "# Perform sentiment analysis on each segment of the transcript\n",
    "sentiments = sentiment_analyzer(transcript)\n",
    "\n",
    "# Print out the sentiments\n",
    "for i, sentiment in enumerate(sentiments):\n",
    "    print(f\"{transcript[i]} Segment {i+1}: {sentiment['label']} (score: {sentiment['score']:.2f})\")"
   ]
  },
  {
   "cell_type": "code",
   "execution_count": null,
   "metadata": {},
   "outputs": [],
   "source": []
  },
  {
   "cell_type": "code",
   "execution_count": null,
   "metadata": {},
   "outputs": [],
   "source": []
  },
  {
   "cell_type": "code",
   "execution_count": null,
   "metadata": {},
   "outputs": [],
   "source": []
  }
 ],
 "metadata": {
  "kernelspec": {
   "display_name": "venv",
   "language": "python",
   "name": "python3"
  },
  "language_info": {
   "codemirror_mode": {
    "name": "ipython",
    "version": 3
   },
   "file_extension": ".py",
   "mimetype": "text/x-python",
   "name": "python",
   "nbconvert_exporter": "python",
   "pygments_lexer": "ipython3",
   "version": "3.12.4"
  }
 },
 "nbformat": 4,
 "nbformat_minor": 2
}
